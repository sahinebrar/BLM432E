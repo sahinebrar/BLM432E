{
 "cells": [
  {
   "cell_type": "code",
   "execution_count": 2,
   "metadata": {},
   "outputs": [
    {
     "name": "stdout",
     "output_type": "stream",
     "text": [
      "Enter hours 8\n",
      "Enter rate 9\n",
      "Pay 72.0\n"
     ]
    }
   ],
   "source": [
    "#multiply and inputs\n",
    "hour= float(input(\"Enter hours \"))\n",
    "rate= float(input(\"Enter rate \"))\n",
    "#pay= hours*rate\n",
    "print(\"Pay \"+ str(hour*rate))"
   ]
  },
  {
   "cell_type": "code",
   "execution_count": 9,
   "metadata": {},
   "outputs": [
    {
     "name": "stdout",
     "output_type": "stream",
     "text": [
      "Enter hours ebrar\n",
      "Enter rate sahin\n",
      "Pay 0\n"
     ]
    }
   ],
   "source": [
    "#if-else condition and try-catch\n",
    "hour= input(\"Enter hours \")\n",
    "rate= input(\"Enter rate \")\n",
    "try:\n",
    "    hour= float(hour)\n",
    "    rate= float(rate)\n",
    "except:\n",
    "    hour= 0\n",
    "    rate= 0\n",
    "pay= 0\n",
    "if hour<= 40:\n",
    "    pay= hour*rate\n",
    "else:\n",
    "    pay= ((40)*rate)+(rate*1.5*(hour-40))\n",
    "print(\"Pay \"+ str(pay))"
   ]
  },
  {
   "cell_type": "code",
   "execution_count": 16,
   "metadata": {},
   "outputs": [
    {
     "name": "stdout",
     "output_type": "stream",
     "text": [
      "Enter hours 45\n",
      "Enter rate 10\n",
      "475.0\n"
     ]
    }
   ],
   "source": [
    " ##run the computePay() function\n",
    "hour= input(\"Enter hours \")\n",
    "rate= input(\"Enter rate \")\n",
    "try:\n",
    "    hour= float(hour)\n",
    "    rate= float(rate)\n",
    "except:\n",
    "    hour= 0\n",
    "    rate= 0\n",
    "print (str(computePay(hour,rate)))"
   ]
  },
  {
   "cell_type": "code",
   "execution_count": 15,
   "metadata": {
    "collapsed": true
   },
   "outputs": [],
   "source": [
    "\"\"\"function built-in functions-->> type() float()\n",
    "    void functions--> without return\n",
    "\"\"\" \n",
    "def computePay(hour,rate):\n",
    "    pay= 0\n",
    "    if hour<= 40:\n",
    "        pay= hour*rate\n",
    "    else:\n",
    "        pay= ((40)*rate)+(rate*1.5*(hour-40))\n",
    "    return pay  "
   ]
  },
  {
   "cell_type": "code",
   "execution_count": 20,
   "metadata": {},
   "outputs": [],
   "source": [
    "# loops--> while-->indefinite loop because they keep going until the logical condition is met\n",
    "# range(10) sayılar dizisi oluşturuyor start with 0 and without 10\n",
    "# None --> null gibi bir şey --> smallest = None if smallest is None:   "
   ]
  },
  {
   "cell_type": "code",
   "execution_count": 28,
   "metadata": {},
   "outputs": [
    {
     "name": "stdout",
     "output_type": "stream",
     "text": [
      "0.0\n"
     ]
    }
   ],
   "source": [
    "0.1+0.1+0.1-0.3\n",
    "from decimal import Decimal\n",
    "x= Decimal('0.1')+Decimal('0.1')+Decimal('0.1')-Decimal('0.3')\n",
    "print(x)"
   ]
  },
  {
   "cell_type": "code",
   "execution_count": 33,
   "metadata": {},
   "outputs": [
    {
     "name": "stdout",
     "output_type": "stream",
     "text": [
      "1/3\n",
      "2/3\n"
     ]
    }
   ],
   "source": [
    "from fractions import Fraction\n",
    "x= Fraction(1,3)#tam sayı\n",
    "print(x)\n",
    "y= Fraction(4,6)#tam sayı\n",
    "print(y)"
   ]
  },
  {
   "cell_type": "code",
   "execution_count": null,
   "metadata": {
    "collapsed": true
   },
   "outputs": [],
   "source": []
  }
 ],
 "metadata": {
  "kernelspec": {
   "display_name": "Python 3",
   "language": "python",
   "name": "python3"
  },
  "language_info": {
   "codemirror_mode": {
    "name": "ipython",
    "version": 3
   },
   "file_extension": ".py",
   "mimetype": "text/x-python",
   "name": "python",
   "nbconvert_exporter": "python",
   "pygments_lexer": "ipython3",
   "version": "3.6.1"
  }
 },
 "nbformat": 4,
 "nbformat_minor": 2
}
